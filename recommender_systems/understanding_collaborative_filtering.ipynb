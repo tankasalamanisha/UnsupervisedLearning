{
 "cells": [
  {
   "cell_type": "markdown",
   "metadata": {},
   "source": [
    "## What are recommender systems?\n",
    "\n",
    "A recommender system is an information filtering tool used to predict a user's rating.\n",
    "\n",
    "Example applications: \n",
    "1. E-commerce websites (recommending a product to buy based on previous purchase and \"similar\" buyer's further purchase items- Amazon),<br>\n",
    "2. Streaming services that suggest movies/music (Spotify, Netflix)\n",
    "3. Social media platforms proposing content creators to follow (Linkedin, YouTube)\n",
    "\n",
    "## Types of recommender systems:\n",
    "1. Content-Based Filtering : Recommends items based on user's history of likes/rating\n",
    "2. Collaborative Filtering : Recommends items that user's with similar preferences liked.\n",
    "3. Hybrid systems: Combine both content-based and collaborative filtering."
   ]
  },
  {
   "cell_type": "code",
   "execution_count": null,
   "metadata": {},
   "outputs": [],
   "source": []
  }
 ],
 "metadata": {
  "kernelspec": {
   "display_name": "Python 3",
   "language": "python",
   "name": "python3"
  },
  "language_info": {
   "name": "python",
   "version": "3.12.1"
  }
 },
 "nbformat": 4,
 "nbformat_minor": 2
}
