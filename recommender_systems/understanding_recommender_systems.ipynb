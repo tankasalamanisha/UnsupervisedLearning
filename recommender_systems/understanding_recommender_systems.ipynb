{
 "cells": [
  {
   "cell_type": "markdown",
   "metadata": {},
   "source": [
    "## What are recommender systems?\n",
    "\n",
    "A recommender system is an information filtering tool used to predict a user's rating.\n",
    "\n",
    "Example applications: \n",
    "1. E-commerce websites (recommending a product to buy based on previous purchase and \"similar\" buyer's further purchase items- Amazon),<br>\n",
    "2. Streaming services that suggest movies/music (Spotify, Netflix)\n",
    "3. Social media platforms proposing content creators to follow (Linkedin, YouTube)\n",
    "\n",
    "## Types of recommender systems:\n",
    "1. Content-Based Filtering : Recommends items based on user's history of likes/rating\n",
    "2. Collaborative Filtering : Recommends items that user's with similar preferences liked.\n",
    "3. Hybrid systems: Combine both content-based and collaborative filtering.\n",
    "\n",
    "### 1. Content Based Filtering\n",
    "\n",
    "Recommends an item B to user if user liked the item A and item B is similar to item A"
   ]
  },
  {
   "cell_type": "code",
   "execution_count": 1,
   "metadata": {},
   "outputs": [],
   "source": [
    "import pandas as pd"
   ]
  },
  {
   "cell_type": "code",
   "execution_count": 2,
   "metadata": {},
   "outputs": [],
   "source": [
    "movies_dict = {\n",
    "    \"movie_id\":[200,201,202,203,204],\n",
    "    \"name\": [\"Movie A\", \"Movie B\",\"Movie C\", \"Movie D\", \"Movie E\"],\n",
    "    \"genre\":[\"Action\",\"Romance\",\"Comedy\",\"Action\",\"Comedy\"],\n",
    "    \"director\": [\"Director A\", \"Director B\",\"Director A\", \"Director D\", \"Director B\"],\n",
    "    \"actors\":['Actor A|Actor B', 'Actor B|Actor C', 'Actor D|Actor E', 'Actor A|Actor F', \"Actor A|Actor D\"]\n",
    "}"
   ]
  },
  {
   "cell_type": "code",
   "execution_count": 3,
   "metadata": {},
   "outputs": [],
   "source": [
    "movies_df = pd.DataFrame (movies_dict)"
   ]
  },
  {
   "cell_type": "code",
   "execution_count": null,
   "metadata": {},
   "outputs": [
    {
     "data": {
      "text/html": [
       "<div>\n",
       "<style scoped>\n",
       "    .dataframe tbody tr th:only-of-type {\n",
       "        vertical-align: middle;\n",
       "    }\n",
       "\n",
       "    .dataframe tbody tr th {\n",
       "        vertical-align: top;\n",
       "    }\n",
       "\n",
       "    .dataframe thead th {\n",
       "        text-align: right;\n",
       "    }\n",
       "</style>\n",
       "<table border=\"1\" class=\"dataframe\">\n",
       "  <thead>\n",
       "    <tr style=\"text-align: right;\">\n",
       "      <th></th>\n",
       "      <th>movie_id</th>\n",
       "      <th>name</th>\n",
       "      <th>genre</th>\n",
       "      <th>director</th>\n",
       "      <th>actors</th>\n",
       "    </tr>\n",
       "  </thead>\n",
       "  <tbody>\n",
       "    <tr>\n",
       "      <th>0</th>\n",
       "      <td>200</td>\n",
       "      <td>Movie A</td>\n",
       "      <td>Action</td>\n",
       "      <td>Director A</td>\n",
       "      <td>Actor A|Actor B</td>\n",
       "    </tr>\n",
       "    <tr>\n",
       "      <th>1</th>\n",
       "      <td>201</td>\n",
       "      <td>Movie B</td>\n",
       "      <td>Romance</td>\n",
       "      <td>Director B</td>\n",
       "      <td>Actor B|Actor C</td>\n",
       "    </tr>\n",
       "    <tr>\n",
       "      <th>2</th>\n",
       "      <td>202</td>\n",
       "      <td>Movie C</td>\n",
       "      <td>Comedy</td>\n",
       "      <td>Director A</td>\n",
       "      <td>Actor D|Actor E</td>\n",
       "    </tr>\n",
       "    <tr>\n",
       "      <th>3</th>\n",
       "      <td>203</td>\n",
       "      <td>Movie D</td>\n",
       "      <td>Action</td>\n",
       "      <td>Director D</td>\n",
       "      <td>Actor A|Actor F</td>\n",
       "    </tr>\n",
       "    <tr>\n",
       "      <th>4</th>\n",
       "      <td>204</td>\n",
       "      <td>Movie E</td>\n",
       "      <td>Comedy</td>\n",
       "      <td>Director B</td>\n",
       "      <td>Actor A|Actor D</td>\n",
       "    </tr>\n",
       "  </tbody>\n",
       "</table>\n",
       "</div>"
      ],
      "text/plain": [
       "   movie_id     name    genre    director           actors\n",
       "0       200  Movie A   Action  Director A  Actor A|Actor B\n",
       "1       201  Movie B  Romance  Director B  Actor B|Actor C\n",
       "2       202  Movie C   Comedy  Director A  Actor D|Actor E\n",
       "3       203  Movie D   Action  Director D  Actor A|Actor F\n",
       "4       204  Movie E   Comedy  Director B  Actor A|Actor D"
      ]
     },
     "execution_count": 4,
     "metadata": {},
     "output_type": "execute_result"
    }
   ],
   "source": [
    "movies_df"
   ]
  },
  {
   "cell_type": "code",
   "execution_count": 5,
   "metadata": {},
   "outputs": [],
   "source": [
    "from sklearn.feature_extraction.text import TfidfVectorizer"
   ]
  },
  {
   "cell_type": "code",
   "execution_count": 6,
   "metadata": {},
   "outputs": [],
   "source": [
    "movies_df[\"combined_features\"] = movies_df[\"genre\"] + \" \" + movies_df[\"director\"] + \" \" + movies_df[\"actors\"]"
   ]
  },
  {
   "cell_type": "code",
   "execution_count": 7,
   "metadata": {},
   "outputs": [],
   "source": [
    "vectorizer=TfidfVectorizer()\n",
    "tfidf_matrix=vectorizer.fit_transform(movies_df[\"combined_features\"])"
   ]
  },
  {
   "cell_type": "code",
   "execution_count": 8,
   "metadata": {},
   "outputs": [
    {
     "name": "stdout",
     "output_type": "stream",
     "text": [
      "<Compressed Sparse Row sparse matrix of dtype 'float64'\n",
      "\twith 3 stored elements and shape (1, 5)>\n",
      "  Coords\tValues\n",
      "  (0, 0)\t0.6036665474310993\n",
      "  (0, 3)\t0.3565351874675532\n",
      "  (0, 1)\t0.7130703749351064\n"
     ]
    }
   ],
   "source": [
    "for i in range(tfidf_matrix.shape[0]):\n",
    "    print(tfidf_matrix[i])\n",
    "    break"
   ]
  },
  {
   "cell_type": "code",
   "execution_count": 9,
   "metadata": {},
   "outputs": [],
   "source": [
    "from sklearn.metrics.pairwise import cosine_similarity"
   ]
  },
  {
   "cell_type": "code",
   "execution_count": 10,
   "metadata": {},
   "outputs": [
    {
     "name": "stdout",
     "output_type": "stream",
     "text": [
      "\u001b[0;31mSignature:\u001b[0m \u001b[0mcosine_similarity\u001b[0m\u001b[0;34m(\u001b[0m\u001b[0mX\u001b[0m\u001b[0;34m,\u001b[0m \u001b[0mY\u001b[0m\u001b[0;34m=\u001b[0m\u001b[0;32mNone\u001b[0m\u001b[0;34m,\u001b[0m \u001b[0mdense_output\u001b[0m\u001b[0;34m=\u001b[0m\u001b[0;32mTrue\u001b[0m\u001b[0;34m)\u001b[0m\u001b[0;34m\u001b[0m\u001b[0;34m\u001b[0m\u001b[0m\n",
      "\u001b[0;31mDocstring:\u001b[0m\n",
      "Compute cosine similarity between samples in X and Y.\n",
      "\n",
      "Cosine similarity, or the cosine kernel, computes similarity as the\n",
      "normalized dot product of X and Y:\n",
      "\n",
      "    K(X, Y) = <X, Y> / (||X||*||Y||)\n",
      "\n",
      "On L2-normalized data, this function is equivalent to linear_kernel.\n",
      "\n",
      "Read more in the :ref:`User Guide <cosine_similarity>`.\n",
      "\n",
      "Parameters\n",
      "----------\n",
      "X : {array-like, sparse matrix} of shape (n_samples_X, n_features)\n",
      "    Input data.\n",
      "\n",
      "Y : {array-like, sparse matrix} of shape (n_samples_Y, n_features),             default=None\n",
      "    Input data. If ``None``, the output will be the pairwise\n",
      "    similarities between all samples in ``X``.\n",
      "\n",
      "dense_output : bool, default=True\n",
      "    Whether to return dense output even when the input is sparse. If\n",
      "    ``False``, the output is sparse if both input arrays are sparse.\n",
      "\n",
      "    .. versionadded:: 0.17\n",
      "       parameter ``dense_output`` for dense output.\n",
      "\n",
      "Returns\n",
      "-------\n",
      "similarities : ndarray or sparse matrix of shape (n_samples_X, n_samples_Y)\n",
      "    Returns the cosine similarity between samples in X and Y.\n",
      "\n",
      "Examples\n",
      "--------\n",
      ">>> from sklearn.metrics.pairwise import cosine_similarity\n",
      ">>> X = [[0, 0, 0], [1, 1, 1]]\n",
      ">>> Y = [[1, 0, 0], [1, 1, 0]]\n",
      ">>> cosine_similarity(X, Y)\n",
      "array([[0.     , 0.     ],\n",
      "       [0.57..., 0.81...]])\n",
      "\u001b[0;31mFile:\u001b[0m      ~/.local/lib/python3.12/site-packages/sklearn/metrics/pairwise.py\n",
      "\u001b[0;31mType:\u001b[0m      function"
     ]
    }
   ],
   "source": [
    "cosine_similarity?"
   ]
  },
  {
   "cell_type": "code",
   "execution_count": 11,
   "metadata": {},
   "outputs": [],
   "source": [
    "cosine_sim=cosine_similarity(tfidf_matrix)"
   ]
  },
  {
   "cell_type": "code",
   "execution_count": null,
   "metadata": {},
   "outputs": [
    {
     "data": {
      "text/plain": [
       "array([[1.        , 0.58131574, 0.6355867 , 1.        , 0.6355867 ],\n",
       "       [0.58131574, 1.        , 0.58131574, 0.58131574, 0.58131574],\n",
       "       [0.6355867 , 0.58131574, 1.        , 0.6355867 , 1.        ],\n",
       "       [1.        , 0.58131574, 0.6355867 , 1.        , 0.6355867 ],\n",
       "       [0.6355867 , 0.58131574, 1.        , 0.6355867 , 1.        ]])"
      ]
     },
     "execution_count": 12,
     "metadata": {},
     "output_type": "execute_result"
    }
   ],
   "source": [
    "cosine_sim"
   ]
  },
  {
   "cell_type": "code",
   "execution_count": 13,
   "metadata": {},
   "outputs": [],
   "source": [
    "cosine_sim_df = pd.DataFrame(data= cosine_sim, index= movies_df[\"name\"], columns=movies_df[\"name\"])"
   ]
  },
  {
   "cell_type": "code",
   "execution_count": 14,
   "metadata": {},
   "outputs": [
    {
     "data": {
      "text/html": [
       "<div>\n",
       "<style scoped>\n",
       "    .dataframe tbody tr th:only-of-type {\n",
       "        vertical-align: middle;\n",
       "    }\n",
       "\n",
       "    .dataframe tbody tr th {\n",
       "        vertical-align: top;\n",
       "    }\n",
       "\n",
       "    .dataframe thead th {\n",
       "        text-align: right;\n",
       "    }\n",
       "</style>\n",
       "<table border=\"1\" class=\"dataframe\">\n",
       "  <thead>\n",
       "    <tr style=\"text-align: right;\">\n",
       "      <th>name</th>\n",
       "      <th>Movie A</th>\n",
       "      <th>Movie B</th>\n",
       "      <th>Movie C</th>\n",
       "      <th>Movie D</th>\n",
       "      <th>Movie E</th>\n",
       "    </tr>\n",
       "    <tr>\n",
       "      <th>name</th>\n",
       "      <th></th>\n",
       "      <th></th>\n",
       "      <th></th>\n",
       "      <th></th>\n",
       "      <th></th>\n",
       "    </tr>\n",
       "  </thead>\n",
       "  <tbody>\n",
       "    <tr>\n",
       "      <th>Movie A</th>\n",
       "      <td>1.000000</td>\n",
       "      <td>0.581316</td>\n",
       "      <td>0.635587</td>\n",
       "      <td>1.000000</td>\n",
       "      <td>0.635587</td>\n",
       "    </tr>\n",
       "    <tr>\n",
       "      <th>Movie B</th>\n",
       "      <td>0.581316</td>\n",
       "      <td>1.000000</td>\n",
       "      <td>0.581316</td>\n",
       "      <td>0.581316</td>\n",
       "      <td>0.581316</td>\n",
       "    </tr>\n",
       "    <tr>\n",
       "      <th>Movie C</th>\n",
       "      <td>0.635587</td>\n",
       "      <td>0.581316</td>\n",
       "      <td>1.000000</td>\n",
       "      <td>0.635587</td>\n",
       "      <td>1.000000</td>\n",
       "    </tr>\n",
       "    <tr>\n",
       "      <th>Movie D</th>\n",
       "      <td>1.000000</td>\n",
       "      <td>0.581316</td>\n",
       "      <td>0.635587</td>\n",
       "      <td>1.000000</td>\n",
       "      <td>0.635587</td>\n",
       "    </tr>\n",
       "    <tr>\n",
       "      <th>Movie E</th>\n",
       "      <td>0.635587</td>\n",
       "      <td>0.581316</td>\n",
       "      <td>1.000000</td>\n",
       "      <td>0.635587</td>\n",
       "      <td>1.000000</td>\n",
       "    </tr>\n",
       "  </tbody>\n",
       "</table>\n",
       "</div>"
      ],
      "text/plain": [
       "name      Movie A   Movie B   Movie C   Movie D   Movie E\n",
       "name                                                     \n",
       "Movie A  1.000000  0.581316  0.635587  1.000000  0.635587\n",
       "Movie B  0.581316  1.000000  0.581316  0.581316  0.581316\n",
       "Movie C  0.635587  0.581316  1.000000  0.635587  1.000000\n",
       "Movie D  1.000000  0.581316  0.635587  1.000000  0.635587\n",
       "Movie E  0.635587  0.581316  1.000000  0.635587  1.000000"
      ]
     },
     "execution_count": 14,
     "metadata": {},
     "output_type": "execute_result"
    }
   ],
   "source": [
    "cosine_sim_df"
   ]
  },
  {
   "cell_type": "code",
   "execution_count": 16,
   "metadata": {},
   "outputs": [
    {
     "data": {
      "text/html": [
       "<div>\n",
       "<style scoped>\n",
       "    .dataframe tbody tr th:only-of-type {\n",
       "        vertical-align: middle;\n",
       "    }\n",
       "\n",
       "    .dataframe tbody tr th {\n",
       "        vertical-align: top;\n",
       "    }\n",
       "\n",
       "    .dataframe thead th {\n",
       "        text-align: right;\n",
       "    }\n",
       "</style>\n",
       "<table border=\"1\" class=\"dataframe\">\n",
       "  <thead>\n",
       "    <tr style=\"text-align: right;\">\n",
       "      <th>name</th>\n",
       "      <th>Movie A</th>\n",
       "      <th>Movie B</th>\n",
       "      <th>Movie C</th>\n",
       "      <th>Movie D</th>\n",
       "      <th>Movie E</th>\n",
       "    </tr>\n",
       "    <tr>\n",
       "      <th>name</th>\n",
       "      <th></th>\n",
       "      <th></th>\n",
       "      <th></th>\n",
       "      <th></th>\n",
       "      <th></th>\n",
       "    </tr>\n",
       "  </thead>\n",
       "  <tbody>\n",
       "    <tr>\n",
       "      <th>Movie A</th>\n",
       "      <td>True</td>\n",
       "      <td>False</td>\n",
       "      <td>True</td>\n",
       "      <td>True</td>\n",
       "      <td>True</td>\n",
       "    </tr>\n",
       "    <tr>\n",
       "      <th>Movie B</th>\n",
       "      <td>False</td>\n",
       "      <td>True</td>\n",
       "      <td>False</td>\n",
       "      <td>False</td>\n",
       "      <td>False</td>\n",
       "    </tr>\n",
       "    <tr>\n",
       "      <th>Movie C</th>\n",
       "      <td>True</td>\n",
       "      <td>False</td>\n",
       "      <td>True</td>\n",
       "      <td>True</td>\n",
       "      <td>True</td>\n",
       "    </tr>\n",
       "    <tr>\n",
       "      <th>Movie D</th>\n",
       "      <td>True</td>\n",
       "      <td>False</td>\n",
       "      <td>True</td>\n",
       "      <td>True</td>\n",
       "      <td>True</td>\n",
       "    </tr>\n",
       "    <tr>\n",
       "      <th>Movie E</th>\n",
       "      <td>True</td>\n",
       "      <td>False</td>\n",
       "      <td>True</td>\n",
       "      <td>True</td>\n",
       "      <td>True</td>\n",
       "    </tr>\n",
       "  </tbody>\n",
       "</table>\n",
       "</div>"
      ],
      "text/plain": [
       "name     Movie A  Movie B  Movie C  Movie D  Movie E\n",
       "name                                                \n",
       "Movie A     True    False     True     True     True\n",
       "Movie B    False     True    False    False    False\n",
       "Movie C     True    False     True     True     True\n",
       "Movie D     True    False     True     True     True\n",
       "Movie E     True    False     True     True     True"
      ]
     },
     "execution_count": 16,
     "metadata": {},
     "output_type": "execute_result"
    }
   ],
   "source": [
    "cosine_sim_df > 0.6"
   ]
  },
  {
   "cell_type": "code",
   "execution_count": null,
   "metadata": {},
   "outputs": [],
   "source": []
  }
 ],
 "metadata": {
  "kernelspec": {
   "display_name": "Python 3",
   "language": "python",
   "name": "python3"
  },
  "language_info": {
   "codemirror_mode": {
    "name": "ipython",
    "version": 3
   },
   "file_extension": ".py",
   "mimetype": "text/x-python",
   "name": "python",
   "nbconvert_exporter": "python",
   "pygments_lexer": "ipython3",
   "version": "3.12.1"
  }
 },
 "nbformat": 4,
 "nbformat_minor": 2
}
